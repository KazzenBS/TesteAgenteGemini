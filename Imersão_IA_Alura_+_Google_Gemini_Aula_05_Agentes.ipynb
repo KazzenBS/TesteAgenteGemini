{
  "nbformat": 4,
  "nbformat_minor": 0,
  "metadata": {
    "colab": {
      "provenance": [],
      "include_colab_link": true
    },
    "kernelspec": {
      "name": "python3",
      "display_name": "Python 3"
    },
    "language_info": {
      "name": "python"
    }
  },
  "cells": [
    {
      "cell_type": "markdown",
      "metadata": {
        "id": "view-in-github",
        "colab_type": "text"
      },
      "source": [
        "<a href=\"https://colab.research.google.com/github/KazzenBS/TesteAgenteGemini/blob/main/Imers%C3%A3o_IA_Alura_%2B_Google_Gemini_Aula_05_Agentes.ipynb\" target=\"_parent\"><img src=\"https://colab.research.google.com/assets/colab-badge.svg\" alt=\"Open In Colab\"/></a>"
      ]
    },
    {
      "cell_type": "code",
      "source": [
        "%pip -q install google-genai"
      ],
      "metadata": {
        "id": "UCCbECexLk_h"
      },
      "execution_count": 1,
      "outputs": []
    },
    {
      "cell_type": "code",
      "source": [
        "# Configura a API Key do Google Gemini\n",
        "\n",
        "import os\n",
        "from google.colab import userdata\n",
        "\n",
        "os.environ[\"GOOGLE_API_KEY\"] = userdata.get('GOOGLE_API_KEY')"
      ],
      "metadata": {
        "id": "NfCqHo1tLk8P"
      },
      "execution_count": 2,
      "outputs": []
    },
    {
      "cell_type": "code",
      "source": [
        "# Configura o cliente da SDK do Gemini\n",
        "\n",
        "from google import genai\n",
        "\n",
        "client = genai.Client()\n",
        "\n",
        "MODEL_ID = \"gemini-2.0-flash\""
      ],
      "metadata": {
        "id": "bV4w0H5TLk5g"
      },
      "execution_count": 3,
      "outputs": []
    },
    {
      "cell_type": "code",
      "source": [
        "# Pergunta ao Gemini uma informação mais recente que seu conhecimento\n",
        "\n",
        "from IPython.display import HTML, Markdown\n",
        "\n",
        "# Perguntar pro modelo quais as ultimas noticias com relação a cibersegurança ###############################################\n",
        "resposta = client.models.generate_content(\n",
        "    model=MODEL_ID,\n",
        "    contents='Quais as ultimas noticias com relação a cibersegurança',\n",
        ")\n",
        "\n",
        "# Exibe a resposta na tela\n",
        "display(Markdown(f\"Resposta:\\n {resposta.text}\"))"
      ],
      "metadata": {
        "id": "HwVP7Xi34Zuw",
        "colab": {
          "base_uri": "https://localhost:8080/",
          "height": 854
        },
        "outputId": "ff0c6544-4df9-42ab-ea47-a00bc2e970c1"
      },
      "execution_count": 4,
      "outputs": [
        {
          "output_type": "display_data",
          "data": {
            "text/plain": [
              "<IPython.core.display.Markdown object>"
            ],
            "text/markdown": "Resposta:\n As últimas notícias sobre cibersegurança abrangem uma variedade de ameaças e tendências. Aqui estão alguns dos destaques mais recentes:\n\n**Ataques e Incidentes:**\n\n*   **Ransomware Continua em Ascensão:** Os ataques de ransomware permanecem uma grande preocupação, com grupos criminosos visando empresas de todos os tamanhos e setores. Alguns ataques recentes se destacaram pela sofisticação e pelo impacto financeiro.\n*   **Exploração de Vulnerabilidades:** A exploração de vulnerabilidades de software continua sendo um vetor de ataque comum. Hackers buscam ativamente falhas em sistemas e aplicativos para obter acesso não autorizado.\n*   **Ataques à Cadeia de Suprimentos:** Incidentes de segurança que afetam a cadeia de suprimentos, onde um ataque a um fornecedor de software ou serviço compromete vários clientes, estão se tornando mais frequentes.\n*   **Ataques a Infraestruturas Críticas:** Há uma crescente preocupação com ataques cibernéticos direcionados a infraestruturas críticas, como redes de energia, sistemas de água e hospitais.\n\n**Tendências e Tecnologias:**\n\n*   **Inteligência Artificial (IA) na Cibersegurança:** A IA está sendo usada tanto por atacantes quanto por defensores. Hackers podem usar IA para automatizar ataques e criar malware mais sofisticado, enquanto as empresas de segurança usam IA para detectar e responder a ameaças de forma mais eficaz.\n*   **Segurança da Nuvem:** Com a crescente adoção de serviços em nuvem, a segurança da nuvem se tornou uma prioridade. As empresas precisam garantir que seus dados e aplicativos na nuvem estejam protegidos contra acesso não autorizado e outras ameaças.\n*   **Autenticação Multifator (MFA):** A MFA está se tornando um padrão para proteger contas online. A exigência de múltiplas formas de autenticação torna muito mais difícil para os hackers obterem acesso a contas, mesmo que tenham roubado senhas.\n*   **Zero Trust:** A arquitetura de segurança Zero Trust está ganhando popularidade. O modelo Zero Trust assume que nenhum usuário ou dispositivo é confiável por padrão e exige verificação contínua.\n\n**Regulamentação e Conformidade:**\n\n*   **Novas Leis e Regulamentos:** Governos em todo o mundo estão introduzindo novas leis e regulamentos para fortalecer a cibersegurança e proteger os dados dos cidadãos. As empresas precisam estar cientes dessas regulamentações e garantir que estão em conformidade.\n*   **LGPD e GDPR:** As leis de proteção de dados, como a Lei Geral de Proteção de Dados (LGPD) no Brasil e o Regulamento Geral de Proteção de Dados (GDPR) na União Europeia, continuam a ter um impacto significativo na forma como as empresas coletam, usam e protegem os dados pessoais.\n\n**Recomendações:**\n\n*   **Mantenha o software atualizado:** Instale patches de segurança e atualizações de software regularmente para corrigir vulnerabilidades conhecidas.\n*   **Use senhas fortes e autenticação multifator:** Crie senhas complexas e exclusivas para cada conta e habilite a autenticação multifator sempre que possível.\n*   **Eduque os usuários:** Treine os funcionários para reconhecer e evitar ataques de phishing e outras ameaças cibernéticas.\n*   **Monitore a rede:** Implemente sistemas de monitoramento de rede para detectar atividades suspeitas e responder a incidentes de segurança.\n*   **Tenha um plano de resposta a incidentes:** Desenvolva um plano de resposta a incidentes para lidar com ataques cibernéticos de forma rápida e eficaz.\n\nPara obter informações mais detalhadas e atualizadas, recomendo consultar fontes de notícias de cibersegurança confiáveis, como:\n\n*   **Portais de Notícias:**\n    *   [https://www.securitymagazine.com/](https://www.securitymagazine.com/)\n    *   [https://www.darkreading.com/](https://www.darkreading.com/)\n    *   [https://threatpost.com/](https://threatpost.com/)\n*   **Empresas de Segurança:**\n    *   [https://www.kaspersky.com.br/resource-center/threats](https://www.kaspersky.com.br/resource-center/threats)\n    *   [https://www.akamai.com/pt/blog/security](https://www.akamai.com/pt/blog/security)\n*   **Fontes Governamentais:**\n    *   [https://www.gov.br/governodigital/pt-br/seguranca](https://www.gov.br/governodigital/pt-br/seguranca)\n\nEspero que esta visão geral seja útil!"
          },
          "metadata": {}
        }
      ]
    },
    {
      "cell_type": "code",
      "source": [
        "# Pergunta ao Gemini uma informação utilizando a busca do Google como contexto\n",
        "\n",
        "response = client.models.generate_content(\n",
        "    model=MODEL_ID,\n",
        "    contents='Quais as ultimas noticias com relação a cibersegurança',\n",
        "    config={\"tools\":[{\"google_search\": {}}]}\n",
        ")\n",
        "\n",
        "# Exibe a resposta na tela\n",
        "display(Markdown(f\"Resposta:\\n {response.text}\"))"
      ],
      "metadata": {
        "id": "yXaZd7iZ4ftw",
        "colab": {
          "base_uri": "https://localhost:8080/",
          "height": 459
        },
        "outputId": "c1e86ba7-2361-44a0-d01f-0fc8607732a0"
      },
      "execution_count": 5,
      "outputs": [
        {
          "output_type": "display_data",
          "data": {
            "text/plain": [
              "<IPython.core.display.Markdown object>"
            ],
            "text/markdown": "Resposta:\n Aqui estão algumas das últimas notícias sobre cibersegurança:\n\n* **Ataques e Incidentes:**\n    * **Ataque de Phishing na Coinbase:** A Coinbase sofreu um ataque de phishing interno que resultou em vazamento de dados de usuários. A exchange recusou uma demanda de resgate de US$ 20 milhões e estima custos de reembolso e reparação de até US$ 400 milhões.\n    * **Vírus que rouba Pix:** Um trojan bancário se infiltra em jogos com prêmios sedutores e faz transferências automáticas via Pix.\n    * **Botnet HTTPBot:** Uma nova botnet chamada HTTPBot está atacando a indústria de jogos, empresas de tecnologia e instituições educacionais.\n    * **Vulnerabilidades em Processadores Intel:** Especialistas de cibersegurança revelaram uma nova falha crítica de segurança que afeta todos os processadores modernos da Intel.\n\n* **Medidas e Ações:**\n    * **Uso de IA para Detecção de Fraudes:** O Google está implementando inteligência artificial para identificar sites fraudulentos no Chrome.\n    * **Novas Diretrizes para IA Generativa:** O Centro Nacional de Cibersegurança (CNCS) sugere boas práticas para o uso de Inteligência Artificial generativa, como evitar compartilhar dados sensíveis e pessoais na interação com a ferramenta.\n    * **Atualizações de Segurança do Firefox:** A Mozilla lançou atualizações de segurança para corrigir duas falhas críticas no navegador Firefox.\n    * **Segurança Social e PJ celebram acordo:** Segurança Social e PJ celebram acordo para reforço da cibersegurança.\n\n* **Ameaças e Riscos:**\n    * **Computação Quântica como Risco:** A BlackRock apontou a computação quântica como um risco para ETFs de Bitcoin.\n    * **Ataque de 51% no Bitcoin:** O pesquisador da Ethereum, Justin Drake, disse que realizar um ataque de 51% ao Bitcoin seria mais barato do que na Ethereum, estimando o custo em cerca de US$ 10 bilhões.\n\n* **Outros:**\n    * **Cibersegurança nas Autarquias:** A cibersegurança é uma questão de extrema importância para as Autarquias que, cada vez mais, dependem da tecnologia para prestarem serviços à população.\n    * **Perdas Financeiras:** Empresas no Brasil perderão R$ 2,2 trilhões em 3 anos devido a ataques de hackers, segundo um estudo.\n"
          },
          "metadata": {}
        }
      ]
    },
    {
      "cell_type": "code",
      "source": [
        "# Exibe a busca\n",
        "print(f\"Busca realizada: {response.candidates[0].grounding_metadata.web_search_queries}\")\n",
        "# Exibe as URLs nas quais ele se baseou\n",
        "print(f\"Páginas utilizadas na resposta: {', '.join([site.web.title for site in response.candidates[0].grounding_metadata.grounding_chunks])}\")\n",
        "print()\n",
        "display(HTML(response.candidates[0].grounding_metadata.search_entry_point.rendered_content))"
      ],
      "metadata": {
        "id": "xHSNlTd84heJ",
        "colab": {
          "base_uri": "https://localhost:8080/",
          "height": 118
        },
        "outputId": "da0bacc0-e9f2-4708-a44a-d915dfe7b73d"
      },
      "execution_count": 6,
      "outputs": [
        {
          "output_type": "stream",
          "name": "stdout",
          "text": [
            "Busca realizada: ['últimas notícias cibersegurança']\n",
            "Páginas utilizadas na resposta: cointelegraph.com, cnnbrasil.com.br, boletimsec.com.br, observador.pt, noticiasaominuto.com\n",
            "\n"
          ]
        },
        {
          "output_type": "display_data",
          "data": {
            "text/plain": [
              "<IPython.core.display.HTML object>"
            ],
            "text/html": [
              "<style>\n",
              ".container {\n",
              "  align-items: center;\n",
              "  border-radius: 8px;\n",
              "  display: flex;\n",
              "  font-family: Google Sans, Roboto, sans-serif;\n",
              "  font-size: 14px;\n",
              "  line-height: 20px;\n",
              "  padding: 8px 12px;\n",
              "}\n",
              ".chip {\n",
              "  display: inline-block;\n",
              "  border: solid 1px;\n",
              "  border-radius: 16px;\n",
              "  min-width: 14px;\n",
              "  padding: 5px 16px;\n",
              "  text-align: center;\n",
              "  user-select: none;\n",
              "  margin: 0 8px;\n",
              "  -webkit-tap-highlight-color: transparent;\n",
              "}\n",
              ".carousel {\n",
              "  overflow: auto;\n",
              "  scrollbar-width: none;\n",
              "  white-space: nowrap;\n",
              "  margin-right: -12px;\n",
              "}\n",
              ".headline {\n",
              "  display: flex;\n",
              "  margin-right: 4px;\n",
              "}\n",
              ".gradient-container {\n",
              "  position: relative;\n",
              "}\n",
              ".gradient {\n",
              "  position: absolute;\n",
              "  transform: translate(3px, -9px);\n",
              "  height: 36px;\n",
              "  width: 9px;\n",
              "}\n",
              "@media (prefers-color-scheme: light) {\n",
              "  .container {\n",
              "    background-color: #fafafa;\n",
              "    box-shadow: 0 0 0 1px #0000000f;\n",
              "  }\n",
              "  .headline-label {\n",
              "    color: #1f1f1f;\n",
              "  }\n",
              "  .chip {\n",
              "    background-color: #ffffff;\n",
              "    border-color: #d2d2d2;\n",
              "    color: #5e5e5e;\n",
              "    text-decoration: none;\n",
              "  }\n",
              "  .chip:hover {\n",
              "    background-color: #f2f2f2;\n",
              "  }\n",
              "  .chip:focus {\n",
              "    background-color: #f2f2f2;\n",
              "  }\n",
              "  .chip:active {\n",
              "    background-color: #d8d8d8;\n",
              "    border-color: #b6b6b6;\n",
              "  }\n",
              "  .logo-dark {\n",
              "    display: none;\n",
              "  }\n",
              "  .gradient {\n",
              "    background: linear-gradient(90deg, #fafafa 15%, #fafafa00 100%);\n",
              "  }\n",
              "}\n",
              "@media (prefers-color-scheme: dark) {\n",
              "  .container {\n",
              "    background-color: #1f1f1f;\n",
              "    box-shadow: 0 0 0 1px #ffffff26;\n",
              "  }\n",
              "  .headline-label {\n",
              "    color: #fff;\n",
              "  }\n",
              "  .chip {\n",
              "    background-color: #2c2c2c;\n",
              "    border-color: #3c4043;\n",
              "    color: #fff;\n",
              "    text-decoration: none;\n",
              "  }\n",
              "  .chip:hover {\n",
              "    background-color: #353536;\n",
              "  }\n",
              "  .chip:focus {\n",
              "    background-color: #353536;\n",
              "  }\n",
              "  .chip:active {\n",
              "    background-color: #464849;\n",
              "    border-color: #53575b;\n",
              "  }\n",
              "  .logo-light {\n",
              "    display: none;\n",
              "  }\n",
              "  .gradient {\n",
              "    background: linear-gradient(90deg, #1f1f1f 15%, #1f1f1f00 100%);\n",
              "  }\n",
              "}\n",
              "</style>\n",
              "<div class=\"container\">\n",
              "  <div class=\"headline\">\n",
              "    <svg class=\"logo-light\" width=\"18\" height=\"18\" viewBox=\"9 9 35 35\" fill=\"none\" xmlns=\"http://www.w3.org/2000/svg\">\n",
              "      <path fill-rule=\"evenodd\" clip-rule=\"evenodd\" d=\"M42.8622 27.0064C42.8622 25.7839 42.7525 24.6084 42.5487 23.4799H26.3109V30.1568H35.5897C35.1821 32.3041 33.9596 34.1222 32.1258 35.3448V39.6864H37.7213C40.9814 36.677 42.8622 32.2571 42.8622 27.0064V27.0064Z\" fill=\"#4285F4\"/>\n",
              "      <path fill-rule=\"evenodd\" clip-rule=\"evenodd\" d=\"M26.3109 43.8555C30.9659 43.8555 34.8687 42.3195 37.7213 39.6863L32.1258 35.3447C30.5898 36.3792 28.6306 37.0061 26.3109 37.0061C21.8282 37.0061 18.0195 33.9811 16.6559 29.906H10.9194V34.3573C13.7563 39.9841 19.5712 43.8555 26.3109 43.8555V43.8555Z\" fill=\"#34A853\"/>\n",
              "      <path fill-rule=\"evenodd\" clip-rule=\"evenodd\" d=\"M16.6559 29.8904C16.3111 28.8559 16.1074 27.7588 16.1074 26.6146C16.1074 25.4704 16.3111 24.3733 16.6559 23.3388V18.8875H10.9194C9.74388 21.2072 9.06992 23.8247 9.06992 26.6146C9.06992 29.4045 9.74388 32.022 10.9194 34.3417L15.3864 30.8621L16.6559 29.8904V29.8904Z\" fill=\"#FBBC05\"/>\n",
              "      <path fill-rule=\"evenodd\" clip-rule=\"evenodd\" d=\"M26.3109 16.2386C28.85 16.2386 31.107 17.1164 32.9095 18.8091L37.8466 13.8719C34.853 11.082 30.9659 9.3736 26.3109 9.3736C19.5712 9.3736 13.7563 13.245 10.9194 18.8875L16.6559 23.3388C18.0195 19.2636 21.8282 16.2386 26.3109 16.2386V16.2386Z\" fill=\"#EA4335\"/>\n",
              "    </svg>\n",
              "    <svg class=\"logo-dark\" width=\"18\" height=\"18\" viewBox=\"0 0 48 48\" xmlns=\"http://www.w3.org/2000/svg\">\n",
              "      <circle cx=\"24\" cy=\"23\" fill=\"#FFF\" r=\"22\"/>\n",
              "      <path d=\"M33.76 34.26c2.75-2.56 4.49-6.37 4.49-11.26 0-.89-.08-1.84-.29-3H24.01v5.99h8.03c-.4 2.02-1.5 3.56-3.07 4.56v.75l3.91 2.97h.88z\" fill=\"#4285F4\"/>\n",
              "      <path d=\"M15.58 25.77A8.845 8.845 0 0 0 24 31.86c1.92 0 3.62-.46 4.97-1.31l4.79 3.71C31.14 36.7 27.65 38 24 38c-5.93 0-11.01-3.4-13.45-8.36l.17-1.01 4.06-2.85h.8z\" fill=\"#34A853\"/>\n",
              "      <path d=\"M15.59 20.21a8.864 8.864 0 0 0 0 5.58l-5.03 3.86c-.98-2-1.53-4.25-1.53-6.64 0-2.39.55-4.64 1.53-6.64l1-.22 3.81 2.98.22 1.08z\" fill=\"#FBBC05\"/>\n",
              "      <path d=\"M24 14.14c2.11 0 4.02.75 5.52 1.98l4.36-4.36C31.22 9.43 27.81 8 24 8c-5.93 0-11.01 3.4-13.45 8.36l5.03 3.85A8.86 8.86 0 0 1 24 14.14z\" fill=\"#EA4335\"/>\n",
              "    </svg>\n",
              "    <div class=\"gradient-container\"><div class=\"gradient\"></div></div>\n",
              "  </div>\n",
              "  <div class=\"carousel\">\n",
              "    <a class=\"chip\" href=\"https://vertexaisearch.cloud.google.com/grounding-api-redirect/AbF9wXGfGAxo0nLaPXyN_cXXGdGKDzdkuPfyPtL2Hud1xbC2yjekDC8zSYqtrLj0-aGBXigCgavlK8sydcV1NcjMFhNXXQpwBQlcAHa77J3tGWZDuZf9FnvvCMag4XgzmYcc-3Gbmq60Miedx9ACQiSViaIYo-NI6XMRDPzLJfqfHSzzMWzmMjVlZLNh_O8Zg90rhlFIFG8dF1kBi78BDjKnZJgNKevGdWWZA1eMy9r0-XitQic=\">últimas notícias cibersegurança</a>\n",
              "  </div>\n",
              "</div>\n"
            ]
          },
          "metadata": {}
        }
      ]
    },
    {
      "cell_type": "code",
      "source": [
        "# Instalar Framework ADK de agentes do Google ################################################\n",
        "!pip install -q google-adk\n"
      ],
      "metadata": {
        "id": "hvZ3UnPI4jhJ",
        "colab": {
          "base_uri": "https://localhost:8080/"
        },
        "outputId": "c60acdbd-5618-4ceb-81cc-088845dd270f"
      },
      "execution_count": 7,
      "outputs": [
        {
          "output_type": "stream",
          "name": "stdout",
          "text": [
            "\u001b[?25l   \u001b[90m━━━━━━━━━━━━━━━━━━━━━━━━━━━━━━━━━━━━━━━━\u001b[0m \u001b[32m0.0/1.2 MB\u001b[0m \u001b[31m?\u001b[0m eta \u001b[36m-:--:--\u001b[0m\r\u001b[2K   \u001b[90m━━━━━━━━━━━━━━━━━━━━━━━━━━━━━━━━━━━━━━━━\u001b[0m \u001b[32m1.2/1.2 MB\u001b[0m \u001b[31m35.3 MB/s\u001b[0m eta \u001b[36m0:00:00\u001b[0m\n",
            "\u001b[?25h\u001b[?25l   \u001b[90m━━━━━━━━━━━━━━━━━━━━━━━━━━━━━━━━━━━━━━━━\u001b[0m \u001b[32m0.0/232.1 kB\u001b[0m \u001b[31m?\u001b[0m eta \u001b[36m-:--:--\u001b[0m\r\u001b[2K   \u001b[90m━━━━━━━━━━━━━━━━━━━━━━━━━━━━━━━━━━━━━━━━\u001b[0m \u001b[32m232.1/232.1 kB\u001b[0m \u001b[31m17.8 MB/s\u001b[0m eta \u001b[36m0:00:00\u001b[0m\n",
            "\u001b[?25h\u001b[?25l   \u001b[90m━━━━━━━━━━━━━━━━━━━━━━━━━━━━━━━━━━━━━━━━\u001b[0m \u001b[32m0.0/95.2 kB\u001b[0m \u001b[31m?\u001b[0m eta \u001b[36m-:--:--\u001b[0m\r\u001b[2K   \u001b[90m━━━━━━━━━━━━━━━━━━━━━━━━━━━━━━━━━━━━━━━━\u001b[0m \u001b[32m95.2/95.2 kB\u001b[0m \u001b[31m8.2 MB/s\u001b[0m eta \u001b[36m0:00:00\u001b[0m\n",
            "\u001b[?25h\u001b[?25l   \u001b[90m━━━━━━━━━━━━━━━━━━━━━━━━━━━━━━━━━━━━━━━━\u001b[0m \u001b[32m0.0/217.1 kB\u001b[0m \u001b[31m?\u001b[0m eta \u001b[36m-:--:--\u001b[0m\r\u001b[2K   \u001b[90m━━━━━━━━━━━━━━━━━━━━━━━━━━━━━━━━━━━━━━━━\u001b[0m \u001b[32m217.1/217.1 kB\u001b[0m \u001b[31m17.2 MB/s\u001b[0m eta \u001b[36m0:00:00\u001b[0m\n",
            "\u001b[?25h\u001b[?25l   \u001b[90m━━━━━━━━━━━━━━━━━━━━━━━━━━━━━━━━━━━━━━━━\u001b[0m \u001b[32m0.0/334.1 kB\u001b[0m \u001b[31m?\u001b[0m eta \u001b[36m-:--:--\u001b[0m\r\u001b[2K   \u001b[90m━━━━━━━━━━━━━━━━━━━━━━━━━━━━━━━━━━━━━━━━\u001b[0m \u001b[32m334.1/334.1 kB\u001b[0m \u001b[31m25.6 MB/s\u001b[0m eta \u001b[36m0:00:00\u001b[0m\n",
            "\u001b[2K   \u001b[90m━━━━━━━━━━━━━━━━━━━━━━━━━━━━━━━━━━━━━━━━\u001b[0m \u001b[32m125.1/125.1 kB\u001b[0m \u001b[31m9.5 MB/s\u001b[0m eta \u001b[36m0:00:00\u001b[0m\n",
            "\u001b[2K   \u001b[90m━━━━━━━━━━━━━━━━━━━━━━━━━━━━━━━━━━━━━━━━\u001b[0m \u001b[32m65.8/65.8 kB\u001b[0m \u001b[31m5.0 MB/s\u001b[0m eta \u001b[36m0:00:00\u001b[0m\n",
            "\u001b[2K   \u001b[90m━━━━━━━━━━━━━━━━━━━━━━━━━━━━━━━━━━━━━━━━\u001b[0m \u001b[32m119.0/119.0 kB\u001b[0m \u001b[31m9.1 MB/s\u001b[0m eta \u001b[36m0:00:00\u001b[0m\n",
            "\u001b[2K   \u001b[90m━━━━━━━━━━━━━━━━━━━━━━━━━━━━━━━━━━━━━━━━\u001b[0m \u001b[32m194.9/194.9 kB\u001b[0m \u001b[31m14.0 MB/s\u001b[0m eta \u001b[36m0:00:00\u001b[0m\n",
            "\u001b[2K   \u001b[90m━━━━━━━━━━━━━━━━━━━━━━━━━━━━━━━━━━━━━━━━\u001b[0m \u001b[32m62.5/62.5 kB\u001b[0m \u001b[31m4.2 MB/s\u001b[0m eta \u001b[36m0:00:00\u001b[0m\n",
            "\u001b[2K   \u001b[90m━━━━━━━━━━━━━━━━━━━━━━━━━━━━━━━━━━━━━━━━\u001b[0m \u001b[32m103.3/103.3 kB\u001b[0m \u001b[31m8.1 MB/s\u001b[0m eta \u001b[36m0:00:00\u001b[0m\n",
            "\u001b[2K   \u001b[90m━━━━━━━━━━━━━━━━━━━━━━━━━━━━━━━━━━━━━━━━\u001b[0m \u001b[32m44.4/44.4 kB\u001b[0m \u001b[31m3.1 MB/s\u001b[0m eta \u001b[36m0:00:00\u001b[0m\n",
            "\u001b[2K   \u001b[90m━━━━━━━━━━━━━━━━━━━━━━━━━━━━━━━━━━━━━━━━\u001b[0m \u001b[32m72.0/72.0 kB\u001b[0m \u001b[31m5.8 MB/s\u001b[0m eta \u001b[36m0:00:00\u001b[0m\n",
            "\u001b[?25h"
          ]
        }
      ]
    },
    {
      "cell_type": "code",
      "execution_count": 8,
      "metadata": {
        "id": "aePV2bdfDeoW"
      },
      "outputs": [],
      "source": [
        "from google.adk.agents import Agent\n",
        "from google.adk.runners import Runner\n",
        "from google.adk.sessions import InMemorySessionService\n",
        "from google.adk.tools import google_search\n",
        "from google.genai import types  # Para criar conteúdos (Content e Part)\n",
        "from datetime import date\n",
        "import textwrap # Para formatar melhor a saída de texto\n",
        "from IPython.display import display, Markdown # Para exibir texto formatado no Colab\n",
        "import requests # Para fazer requisições HTTP\n",
        "import warnings\n",
        "\n",
        "warnings.filterwarnings(\"ignore\")"
      ]
    },
    {
      "cell_type": "code",
      "source": [
        "# Função auxiliar que envia uma mensagem para um agente via Runner e retorna a resposta final\n",
        "def call_agent(agent: Agent, message_text: str) -> str:\n",
        "    # Cria um serviço de sessão em memória\n",
        "    session_service = InMemorySessionService()\n",
        "    # Cria uma nova sessão (você pode personalizar os IDs conforme necessário)\n",
        "    session = session_service.create_session(app_name=agent.name, user_id=\"user1\", session_id=\"session1\")\n",
        "    # Cria um Runner para o agente\n",
        "    runner = Runner(agent=agent, app_name=agent.name, session_service=session_service)\n",
        "    # Cria o conteúdo da mensagem de entrada\n",
        "    content = types.Content(role=\"user\", parts=[types.Part(text=message_text)])\n",
        "\n",
        "    final_response = \"\"\n",
        "    # Itera assincronamente pelos eventos retornados durante a execução do agente\n",
        "    for event in runner.run(user_id=\"user1\", session_id=\"session1\", new_message=content):\n",
        "        if event.is_final_response():\n",
        "          for part in event.content.parts:\n",
        "            if part.text is not None:\n",
        "              final_response += part.text\n",
        "              final_response += \"\\n\"\n",
        "    return final_response"
      ],
      "metadata": {
        "id": "_xP4lWhsS5ko"
      },
      "execution_count": 9,
      "outputs": []
    },
    {
      "cell_type": "code",
      "source": [
        "# Função auxiliar para exibir texto formatado em Markdown no Colab\n",
        "def to_markdown(text):\n",
        "  text = text.replace('•', '  *')\n",
        "  return Markdown(textwrap.indent(text, '> ', predicate=lambda _: True))"
      ],
      "metadata": {
        "id": "8dosiodaxfFR"
      },
      "execution_count": 10,
      "outputs": []
    },
    {
      "cell_type": "code",
      "source": [
        "##########################################\n",
        "# --- Agente 1: Buscador de Notícias --- #\n",
        "##########################################\n",
        "def agente_buscador(topico, data_de_hoje):\n",
        "    buscador = Agent(\n",
        "        name=\"agente_buscador\",\n",
        "        model=\"gemini-2.0-flash\",\n",
        "        description=\"Agente que busca notícias no Google sobre o tópico indicado\",\n",
        "        tools=[google_search],\n",
        "        instruction=\"\"\"\n",
        "        Voce é um assistente de pesquisa, sua tarefa é usar a ferramenta de busca do Google\n",
        "        (google_search) para recuperar as ultimas noticias de lançamentos muito relevantes\n",
        "        sobre o topico abaixo. Foque em no maximo 5 noticias, com base na quantidade e entusiasmo\n",
        "        sobre ele.\n",
        "        Se o tempo tiver poucas noticias ou reações entusiasmadas é possivel que não seja relevante.\n",
        "        Por conta disso, ele pode ser subtituido por outro.\n",
        "\n",
        "        \"\"\"\n",
        ")\n",
        "    entrada_do_agente_buscador = f\"Tópico: {topico}\\nData de hoje: {data_de_hoje}\"\n",
        "    # Executa o agente\n",
        "    lancamentos = call_agent(buscador, entrada_do_agente_buscador)\n",
        "    return lancamentos"
      ],
      "metadata": {
        "id": "o8bqIfi_DyH8"
      },
      "execution_count": 19,
      "outputs": []
    },
    {
      "cell_type": "code",
      "source": [
        "################################################\n",
        "# --- Agente 2: Planejador de posts --- #\n",
        "################################################\n",
        "def agente_planejador(topico, lancamentos_buscados):\n",
        "    planejador = Agent(\n",
        "        name=\"agente_planejador\",\n",
        "        model=\"gemini-2.0-flash\",\n",
        "        # Inserir as instruções do Agente Planejador #################################################\n",
        "        instruction=\"\"\"\n",
        "        Voce é um planejador de conteudo e especista em redes sociais.\n",
        "        Com base na lista de lançamentos relevantes e relevantes buscados, voce deve:\n",
        "        Usar a ferramenta de busca do google (google_search) para criar um plano sobre\n",
        "        quais são os pontos mais relevantes que poderiamos abordar em um post sobre cada\n",
        "        um deles.\n",
        "        Tambem pode usar o google_search para buscar novas informações sobre os temas\n",
        "        Ao final voce ira escolher o tema mais relevante dentre todos eles, baseado nas\n",
        "        suas pesquisas.\n",
        "        Retornar esse tema, seus pontos mais relevantes e o plano com os assuntos a serem\n",
        "        abordados no post que sera escrito posteriormente.\n",
        "        Compare essas noticias com noticias de 30 dias atras ou a frente e baseado nisso, crie algumas\n",
        "        possiveis tendencias baseadas em cibersegurança.\n",
        "        \"\"\",\n",
        "        description=\"Agente que planeja posts\",\n",
        "        tools=[google_search]\n",
        "    )\n",
        "\n",
        "    entrada_do_agente_planejador = f\"Tópico:{topico}\\nLançamentos buscados: {lancamentos_buscados}\"\n",
        "    # Executa o agente\n",
        "    plano_do_post = call_agent(planejador, entrada_do_agente_planejador)\n",
        "    return plano_do_post"
      ],
      "metadata": {
        "id": "y3VO1uo5_ghO"
      },
      "execution_count": 18,
      "outputs": []
    },
    {
      "cell_type": "code",
      "source": [
        "######################################\n",
        "# --- Agente 3: Redator do Post --- #\n",
        "######################################\n",
        "def agente_redator(topico, plano_de_post):\n",
        "    redator = Agent(\n",
        "        name=\"agente_redator\",\n",
        "        model=\"gemini-2.0-flash\",\n",
        "        instruction=\"\"\"\n",
        "            Você é um Redator Criativo especializado em criar posts virais para redes sociais.\n",
        "            Você escreve posts para uma empresa de cibersegurança.\n",
        "            Utilize o tema fornecido no plano de post e os pontos mais relevantes fornecidos e, com base nisso,\n",
        "            escreva um rascunho de post para o linkedin sobre o tema indicado.\n",
        "            O post deve ser inspirador, informativo, instigante e com linguagem que possa ser atendida por leigos ou tecnicos.\n",
        "            \"\"\",\n",
        "        description=\"Agente redator de posts engajadores para Instagram\"\n",
        "    )\n",
        "    entrada_do_agente_redator = f\"Tópico: {topico}\\nPlano de post: {plano_de_post}\"\n",
        "    # Executa o agente\n",
        "    rascunho_de_post = call_agent(redator, entrada_do_agente_redator)\n",
        "    return rascunho_de_post"
      ],
      "metadata": {
        "id": "uOqlg2TRLVh1"
      },
      "execution_count": 17,
      "outputs": []
    },
    {
      "cell_type": "code",
      "source": [
        "##########################################\n",
        "# --- Agente 4: Revisor de Qualidade --- #\n",
        "##########################################\n",
        "def agente_revisor(topico, rascunho_gerado):\n",
        "    revisor = Agent(\n",
        "        name=\"agente_revisor\",\n",
        "        model=\"gemini-2.0-flash\",\n",
        "        instruction=\"\"\"\n",
        "            Você é um Editor e Revisor de Conteúdo meticuloso, especializado em posts para redes sociais, com foco no Linkedin.\n",
        "            Por ter um público que gosta de tecnologia, trabalhando ou não na area de cibersegurança, entre 18 e 30 anos, use um tom de escrita adequado.\n",
        "            Revise o rascunho de post de Linkedin abaixo sobre o tópico indicado, verificando clareza, concisão, correção e tom.\n",
        "            Se o rascunho estiver bom, responda apenas 'O rascunho está ótimo e pronto para publicar!'.\n",
        "            O rascunho deve ser relevante e atual e de no maximo um mes da data de hoje.\n",
        "            Verifique se o assunto digitado pelo usuario tem relação com TI ou cibersegurança.\n",
        "            Cheque se as noticias não sofreram alterações ou modificações que possam conter fakenews.\n",
        "            Caso haja problemas, aponte-os e sugira melhorias.\n",
        "\n",
        "            \"\"\",\n",
        "        description=\"Agente revisor de post para redes sociais.\"\n",
        "    )\n",
        "    entrada_do_agente_revisor = f\"Tópico: {topico}\\nRascunho: {rascunho_gerado}\"\n",
        "    # Executa o agente\n",
        "    post_final = call_agent(revisor, entrada_do_agente_revisor)\n",
        "    return post_final"
      ],
      "metadata": {
        "id": "_aTb1SdkLeT6"
      },
      "execution_count": 23,
      "outputs": []
    },
    {
      "cell_type": "code",
      "source": [
        "data_de_hoje = date.today().strftime(\"%d/%m/%Y\")\n",
        "\n",
        "print(\"🚀 Iniciando o Sistema de Criação de Posts para Linkedin com 4 Agentes 🚀\")\n",
        "\n",
        "# --- Obter o Tópico do Usuário ---\n",
        "topico = input(\"❓ Por favor, digite o TÓPICO sobre o qual você quer criar o post de tendências: \")\n",
        "\n",
        "# Inserir lógica do sistema de agentes ################################################\n",
        "if not topico:\n",
        "    print(\"Você esqueceu de digitar o tópico!\")\n",
        "else:\n",
        "    print(f\"Maravilha! Vamos então criar o post sobre novidades em {topico}\")\n",
        "\n",
        "    lancamentos_buscados = agente_buscador(topico, data_de_hoje)\n",
        "    print(\"\\n--- 📝 Resultado do Agente 1 (Buscador) ---\\n\")\n",
        "    display(to_markdown(lancamentos_buscados))\n",
        "    print(\"--------------------------------------------------------------\")\n",
        "\n",
        "    plano_de_post = agente_planejador(topico, lancamentos_buscados)\n",
        "    print(\"\\n--- 📝 Resultado do Agente 2 (Planejador) ---\\n\")\n",
        "    display(to_markdown(plano_de_post))\n",
        "    print(\"--------------------------------------------------------------\")\n",
        "\n",
        "    rascunho_de_post = agente_redator(topico, plano_de_post)\n",
        "    print(\"\\n--- 📝 Resultado do Agente 3 (Redator) ---\\n\")\n",
        "    display(to_markdown(rascunho_de_post))\n",
        "    print(\"--------------------------------------------------------------\")\n",
        "\n",
        "    post_final = agente_revisor(topico, rascunho_de_post)\n",
        "    print(\"\\n--- 📝 Resultado do Agente 4 (Revisor) ---\\n\")\n",
        "    display(to_markdown(post_final))\n",
        "    print(\"--------------------------------------------------------------\")\n",
        "\n"
      ],
      "metadata": {
        "id": "630ummxz4myx",
        "colab": {
          "base_uri": "https://localhost:8080/",
          "height": 1000
        },
        "outputId": "fd60f3d9-b4de-4608-b3c4-6b5eeb8ca809"
      },
      "execution_count": 21,
      "outputs": [
        {
          "output_type": "stream",
          "name": "stdout",
          "text": [
            "🚀 Iniciando o Sistema de Criação de Posts para Linkedin com 4 Agentes 🚀\n",
            "❓ Por favor, digite o TÓPICO sobre o qual você quer criar o post de tendências: cibersegurança\n",
            "Maravilha! Vamos então criar o post sobre novidades em cibersegurança\n",
            "\n",
            "--- 📝 Resultado do Agente 1 (Buscador) ---\n",
            "\n"
          ]
        },
        {
          "output_type": "display_data",
          "data": {
            "text/plain": [
              "<IPython.core.display.Markdown object>"
            ],
            "text/markdown": "> Para fornecer as notícias mais relevantes sobre cibersegurança, vou usar a ferramenta de busca do Google para encontrar os lançamentos e notícias de maior destaque no campo.\n> \n> \n> Com base nas notícias e tendências de cibersegurança para 2025, aqui estão os principais pontos relevantes:\n> \n> 1.  **Aproveitamento da IA para Inteligência Avançada de Ameaças**: A inteligência artificial desempenhará um papel crucial na melhoria da detecção e mitigação de ameaças, processando grandes volumes de dados em tempo real e identificando padrões incomuns antes que se materializem. A IA automatizará respostas a incidentes, neutralizando ameaças como malware e phishing sem intervenção humana (Splashtop, ISH Tecnologia, DANRESA Portal, Qualys, Techbiz Forense Digital, Lumiun Blog, Infomach, Cloud Target, Hydra IT, Illumio).\n> 2.  **Adoção da Arquitetura de Confiança Zero (Zero Trust)**: Este modelo de segurança assume que nenhuma entidade deve ser confiada por padrão, enfatizando a verificação contínua e controles de acesso robustos para proteger ambientes complexos e dinâmicos (Splashtop, ISH Tecnologia, DANRESA Portal, Lumiun Blog, Hydra IT, Illumio).\n> 3.  **Proteção de Redes 5G**: A implementação do 5G trará novos desafios de cibersegurança, expandindo a superfície de ataque. A priorização de criptografia robusta e protocolos de autenticação fortes será essencial (Splashtop, ISH Tecnologia, Techbiz Forense Digital).\n> 4.  **Resiliência Contra Ataques à Cadeia de Suprimentos**: A crescente dependência de fornecedores terceiros torna as cadeias de abastecimento alvos principais para hackers, exigindo estratégias de segurança multicamadas (Splashtop, Infomach, OBlock).\n> 5.  **Segurança de Dispositivos IoT**: A proliferação de dispositivos IoT expande a superfície de ataque, com muitos dispositivos carecendo de funcionalidades de segurança adequadas. Medidas de autenticação fortes e monitoramento contínuo são necessários (Splashtop, ISH Tecnologia, DANRESA Portal, Techbiz Forense Digital).\n> 6.  **Ameaças Cibernéticas Impulsionadas por IA**: A inteligência artificial será utilizada para criar ataques mais sofisticados, como deepfakes e phishing direcionado, exigindo o uso da própria IA para combater essas ameaças (ISH Tecnologia, DANRESA Portal, Forbes, Cloud Target).\n> 7.  **Escassez de Profissionais em Segurança Cibernética**: A falta de especialistas sobrecarrega as equipes existentes, levando a erros humanos e vulnerabilidades não resolvidas (ISH Tecnologia).\n> 8.  **Cibersegurança como Serviço (CaaS)**: A terceirização de serviços de cibersegurança permite que empresas acessem expertise especializada e soluções avançadas sem precisar investir em infraestrutura interna (Splashtop, DANRESA Portal).\n> 9.  **Segurança em Ambientes Multicloud**: Empresas precisarão implementar políticas de segurança específicas para ambientes de nuvem híbrida, garantindo proteção de dados e conformidade com regulamentações de privacidade (Splashtop, DANRESA Portal).\n> 10. **Proteção de Dados e Regulamentações de Privacidade**: Com regulamentações como a LGPD em vigor, espera-se um aumento no foco em conformidade e proteção de dados (DANRESA Portal, Infomach).\n> \n> Essas tendências refletem a necessidade de uma abordagem proativa e adaptável à cibersegurança, com foco em tecnologias emergentes, regulamentações e a crescente sofisticação das ameaças.\n> \n"
          },
          "metadata": {}
        },
        {
          "output_type": "stream",
          "name": "stdout",
          "text": [
            "--------------------------------------------------------------\n",
            "\n",
            "--- 📝 Resultado do Agente 2 (Planejador) ---\n",
            "\n"
          ]
        },
        {
          "output_type": "display_data",
          "data": {
            "text/plain": [
              "<IPython.core.display.Markdown object>"
            ],
            "text/markdown": "> Com certeza! Para criar um plano de conteúdo eficaz sobre cibersegurança com base nas informações que você forneceu, vamos primeiro detalhar cada ponto relevante e, em seguida, identificar o tema mais promissor para um post.\n> \n> **Análise dos Pontos Relevantes:**\n> \n> 1.  **IA para Inteligência Avançada de Ameaças:**\n>     *   **Relevância:** Alta. IA está transformando a cibersegurança.\n>     *   **Público-Alvo:** Profissionais de TI, gestores de segurança, empresas de tecnologia.\n>     *   **Potenciais Tópicos:**\n>         *   Como a IA detecta ameaças que humanos não conseguem.\n>         *   Estudos de caso de uso de IA na cibersegurança.\n>         *   O futuro da IA na resposta a incidentes.\n> 2.  **Adoção da Arquitetura de Confiança Zero:**\n>     *   **Relevância:** Alta. Essencial para ambientes modernos.\n>     *   **Público-Alvo:** Arquitetos de sistemas, equipes de segurança.\n>     *   **Potenciais Tópicos:**\n>         *   Princípios da Confiança Zero e como implementá-los.\n>         *   Ferramentas e tecnologias para uma arquitetura de Confiança Zero.\n>         *   Benefícios e desafios da Confiança Zero.\n> 3.  **Proteção de Redes 5G:**\n>     *   **Relevância:** Média. 5G ainda está em expansão.\n>     *   **Público-Alvo:** Operadoras de telecomunicações, desenvolvedores de IoT.\n>     *   **Potenciais Tópicos:**\n>         *   Vulnerabilidades específicas do 5G.\n>         *   Melhores práticas para proteger redes 5G.\n>         *   Impacto da segurança 5G em diferentes setores.\n> 4.  **Resiliência Contra Ataques à Cadeia de Suprimentos:**\n>     *   **Relevância:** Alta. Ataques recentes demonstraram o risco.\n>     *   **Público-Alvo:** Gestores de risco, empresas com cadeias complexas.\n>     *   **Potenciais Tópicos:**\n>         *   Como identificar vulnerabilidades na cadeia de suprimentos.\n>         *   Estratégias para mitigar riscos de terceiros.\n>         *   Exemplos de ataques à cadeia de suprimentos e como preveni-los.\n> 5.  **Segurança de Dispositivos IoT:**\n>     *   **Relevância:** Alta. IoT está em todo lugar, mas pouco seguro.\n>     *   **Público-Alvo:** Fabricantes de dispositivos IoT, usuários domésticos, empresas.\n>     *   **Potenciais Tópicos:**\n>         *   Riscos de segurança em dispositivos IoT comuns.\n>         *   Dicas para proteger dispositivos IoT em casa e no trabalho.\n>         *   Regulamentações e padrões de segurança para IoT.\n> 6.  **Ameaças Cibernéticas Impulsionadas por IA:**\n>     *   **Relevância:** Alta. Combate de IA contra IA.\n>     *   **Público-Alvo:** Especialistas em segurança, pesquisadores.\n>     *   **Potenciais Tópicos:**\n>         *   Como a IA é usada para criar deepfakes e phishing avançado.\n>         *   Técnicas para detectar ataques baseados em IA.\n>         *   O futuro da \"guerra cibernética\" com IA.\n> 7.  **Escassez de Profissionais em Segurança Cibernética:**\n>     *   **Relevância:** Média. Impacta a capacidade de resposta.\n>     *   **Público-Alvo:** Estudantes, profissionais em transição de carreira, empresas.\n>     *   **Potenciais Tópicos:**\n>         *   Oportunidades de carreira em cibersegurança.\n>         *   Habilidades e certificações mais demandadas.\n>         *   Como as empresas podem atrair e reter talentos em segurança.\n> 8.  **Cibersegurança como Serviço (CaaS):**\n>     *   **Relevância:** Média. Solução para empresas menores.\n>     *   **Público-Alvo:** Pequenas e médias empresas.\n>     *   **Potenciais Tópicos:**\n>         *   Benefícios de terceirizar a cibersegurança.\n>         *   Como escolher um provedor de CaaS.\n>         *   Custos e modelos de CaaS.\n> 9.  **Segurança em Ambientes Multicloud:**\n>     *   **Relevância:** Média. Muitas empresas usam várias nuvens.\n>     *   **Público-Alvo:** Arquitetos de nuvem, equipes de segurança.\n>     *   **Potenciais Tópicos:**\n>         *   Desafios de segurança em ambientes multicloud.\n>         *   Ferramentas e estratégias para proteger dados em várias nuvens.\n>         *   Conformidade em ambientes multicloud.\n> 10. **Proteção de Dados e Regulamentações de Privacidade:**\n>     *   **Relevância:** Alta. LGPD e outras leis estão em vigor.\n>     *   **Público-Alvo:** Empresas de todos os portes.\n>     *   **Potenciais Tópicos:**\n>         *   O que é a LGPD e como ela afeta as empresas.\n>         *   Melhores práticas para proteger dados pessoais.\n>         *   Como garantir a conformidade com regulamentações de privacidade.\n> \n> **Tema Mais Relevante:**\n> \n> Com base na análise, o tema mais relevante para um post no momento é **\"Aproveitamento da IA para Inteligência Avançada de Ameaças\"** ou **\"Resiliência Contra Ataques à Cadeia de Suprimentos\"**. Ambos têm alta relevância e atraem um público amplo.\n> \n> **Plano para um Post sobre IA na Inteligência de Ameaças:**\n> \n> 1.  **Título:** \"IA na Cibersegurança: Como a Inteligência Artificial Está Combatendo as Ameaças do Futuro\"\n> 2.  **Introdução:**\n>     *   Breve explicação sobre o que é inteligência de ameaças.\n>     *   Como a IA está revolucionando a detecção e resposta a ameaças.\n> 3.  **Tópicos:**\n>     *   **Detecção Proativa:** Como a IA analisa grandes volumes de dados para identificar padrões suspeitos antes que se tornem ataques.\n>     *   **Automação da Resposta a Incidentes:** Como a IA pode neutralizar automaticamente ameaças como malware e phishing.\n>     *   **Personalização da Segurança:** Como a IA adapta as defesas de segurança com base no perfil de risco de cada organização.\n>     *   **Exemplos Práticos:** Estudos de caso de empresas que usam IA para proteger seus dados.\n> 4.  **Conclusão:**\n>     *   Reafirmação da importância da IA na cibersegurança.\n>     *   Chamada para ação: incentive os leitores a explorar soluções de IA para proteger suas empresas.\n> \n> **Plano para um Post sobre Resiliência Contra Ataques à Cadeia de Suprimentos:**\n> \n> 1.  **Título:** \"Ataques à Cadeia de Suprimentos: Como Proteger Sua Empresa Contra Ameaças de Terceiros\"\n> 2.  **Introdução:**\n>     *   Explicação sobre o que são ataques à cadeia de suprimentos e por que são tão perigosos.\n>     *   Exemplos recentes de ataques notórios (SolarWinds, Kaseya).\n> 3.  **Tópicos:**\n>     *   **Identificação de Vulnerabilidades:** Como mapear e avaliar os riscos em sua cadeia de suprimentos.\n>     *   **Estratégias de Mitigação:**\n>         *   Implementação de controles de acesso rigorosos.\n>         *   Monitoramento contínuo de fornecedores.\n>         *   Planos de resposta a incidentes.\n>     *   **Due Diligence:** Como avaliar a postura de segurança de seus fornecedores antes de contratá-los.\n>     *   **Exemplos Práticos:**\n>         *   Histórias de sucesso de empresas que fortaleceram sua cadeia de suprimentos.\n> 4.  **Conclusão:**\n>     *   Reafirmação da importância de proteger a cadeia de suprimentos.\n>     *   Chamada para ação: incentive os leitores a realizar uma avaliação de risco em sua cadeia de suprimentos e a implementar medidas de segurança.\n> \n> **Tendências de Cibersegurança:**\n> \n> Para identificar possíveis tendências futuras, podemos comparar as notícias atuais com as de 30 dias atrás ou à frente.\n> \n> **Pesquisas no Google:**\n> \n> Com base nas pesquisas e notícias recentes, podemos identificar algumas tendências emergentes e contínuas em cibersegurança:\n> \n> *   **Ataques de Deepfake:** O FBI alertou sobre o uso de deepfakes de áudio gerados por IA para personificar autoridades dos EUA em ataques de vishing (DIESEC).\n> *   **Alvos de Infraestrutura Crítica:** Um apagão em Portugal e na Espanha destaca a vulnerabilidade de infraestruturas críticas a ciberataques (Sotto Maior & Nagel Advogados Associados).\n> *   **Ataques à Cadeia de Suprimentos:** Os ataques à cadeia de suprimentos continuam a ser uma grande preocupação e estão aumentando, exigindo que as empresas adotem medidas mais proativas.\n> *   **Conscientização sobre priorização de vulnerabilidades:** A gestão de vulnerabilidades é entender o que está rodando no meu ambiente, decidir o que tem que ser feito primeiro e agir rápido.\n> \n> **Possíveis Tendências:**\n> \n> 1.  **Aumento de Ataques de Engenharia Social:** Com o avanço da IA, os ataques de engenharia social se tornarão mais sofisticados e personalizados.\n> 2.  **Ciberataques a Infraestruturas Críticas:** Ataques a infraestruturas críticas, como redes elétricas, de água e de transporte, se tornarão mais comuns e sofisticados.\n> 3.  **Segurança de dados:** Segurança de dados, proteção e privacidade serão cada vez mais importantes.\n> \n> **Conclusão:**\n> \n> Com base em sua relevância e potencial para engajamento, eu recomendo um post sobre **\"IA na Cibersegurança: Como a Inteligência Artificial Está Combatendo as Ameaças do Futuro\"** ou **\"Ataques à Cadeia de Suprimentos: Como Proteger Sua Empresa Contra Ameaças de Terceiros\"**. Ambos os temas são atuais, impactantes e oferecem oportunidades para fornecer informações valiosas e práticas para o seu público.\n> \n"
          },
          "metadata": {}
        },
        {
          "output_type": "stream",
          "name": "stdout",
          "text": [
            "--------------------------------------------------------------\n",
            "\n",
            "--- 📝 Resultado do Agente 3 (Redator) ---\n",
            "\n"
          ]
        },
        {
          "output_type": "display_data",
          "data": {
            "text/plain": [
              "<IPython.core.display.Markdown object>"
            ],
            "text/markdown": "> ## Rascunho de Post para LinkedIn: Cibersegurança Impulsionada por IA 🛡️🤖\n> \n> **Título:** IA na Cibersegurança: A Revolução Silenciosa que Está Protegendo o Nosso Futuro Digital\n> \n> A cibersegurança está em constante evolução, e a inteligência artificial (IA) emergiu como uma força transformadora na luta contra as ameaças digitais. Mas como exatamente a IA está revolucionando a maneira como protegemos nossos dados e sistemas? 🤔\n> \n> **Detecção Proativa:** Imagine um sistema que aprende os padrões normais da sua rede e, de repente, identifica anomalias sutis que escapariam ao olhar humano. A IA faz exatamente isso! Ela analisa grandes volumes de dados em tempo real, detectando atividades suspeitas antes que se transformem em ataques. É como ter um \"cão de guarda\" digital incansável. 🐕‍🦺\n> \n> **Automação da Resposta a Incidentes:** A velocidade é crucial em um ataque cibernético. A IA pode neutralizar automaticamente ameaças como malware e phishing, isolando sistemas comprometidos e impedindo a propagação do ataque. Isso significa menos tempo de inatividade e menos danos para sua empresa. ⏱️\n> \n> **Personalização da Segurança:** Cada organização é única, com suas próprias vulnerabilidades e riscos. A IA adapta as defesas de segurança com base no perfil de risco individual de cada empresa, garantindo que os recursos sejam alocados onde são mais necessários. É como ter um guarda-costas sob medida para suas necessidades. 👔\n> \n> **Exemplos Práticos:** Empresas de todos os setores estão usando a IA para proteger seus dados. Desde bancos que detectam fraudes em tempo real até empresas de manufatura que protegem suas linhas de produção de ataques ransomware, a IA está mostrando resultados impressionantes. 🚀\n> \n> **O Futuro da Cibersegurança é Agora!** A IA não é apenas uma tendência passageira; é o futuro da cibersegurança. Ao adotar soluções baseadas em IA, as empresas podem se proteger contra as ameaças mais avançadas e garantir a segurança de seus dados e sistemas. \n> \n> **#cibersegurança #IA #inteligenciaartificial #inovação #segurançadigital #proteçãodedados #tecnologia**\n> \n> **[Imagem:** Uma imagem que combine elementos de IA (como um cérebro digital) e segurança (como um escudo ou cadeado). Pode ser uma imagem abstrata ou uma representação visual de IA analisando dados para detectar ameaças.]\n> \n> **[Link:** Inclua um link para um artigo relevante, um estudo de caso ou uma página do seu site que ofereça mais informações sobre soluções de cibersegurança baseadas em IA.]\n> \n"
          },
          "metadata": {}
        },
        {
          "output_type": "stream",
          "name": "stdout",
          "text": [
            "--------------------------------------------------------------\n",
            "\n",
            "--- 📝 Resultado do Agente 4 (Revisor) ---\n",
            "\n"
          ]
        },
        {
          "output_type": "display_data",
          "data": {
            "text/plain": [
              "<IPython.core.display.Markdown object>"
            ],
            "text/markdown": "> O rascunho está ótimo e pronto para publicar!\n"
          },
          "metadata": {}
        },
        {
          "output_type": "stream",
          "name": "stdout",
          "text": [
            "--------------------------------------------------------------\n"
          ]
        }
      ]
    },
    {
      "cell_type": "code",
      "source": [],
      "metadata": {
        "id": "n8Cmcgq8LrIj"
      },
      "execution_count": null,
      "outputs": []
    }
  ]
}